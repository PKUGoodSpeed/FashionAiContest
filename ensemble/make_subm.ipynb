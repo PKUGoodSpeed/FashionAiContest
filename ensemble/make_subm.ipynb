{
 "cells": [
  {
   "cell_type": "code",
   "execution_count": 47,
   "metadata": {
    "collapsed": true
   },
   "outputs": [],
   "source": [
    "import numpy as np\n",
    "import pandas as pd"
   ]
  },
  {
   "cell_type": "code",
   "execution_count": 48,
   "metadata": {},
   "outputs": [
    {
     "name": "stdout",
     "output_type": "stream",
     "text": [
      "(15042, 3)\n"
     ]
    }
   ],
   "source": [
    "ref = pd.read_csv('../data/rank/Tests/answer_mock.csv', \n",
    "                 names=['fname', 'label', 'pred'])\n",
    "ref.head(3)\n",
    "print(ref.shape)"
   ]
  },
  {
   "cell_type": "code",
   "execution_count": 49,
   "metadata": {},
   "outputs": [
    {
     "name": "stdout",
     "output_type": "stream",
     "text": [
      "['collar_design_labels', 'neckline_design_labels', 'skirt_length_labels', 'sleeve_length_labels', 'neck_design_labels', 'coat_length_labels', 'lapel_design_labels', 'pant_length_labels']\n",
      "CPU times: user 718 ms, sys: 167 ms, total: 885 ms\n",
      "Wall time: 726 ms\n"
     ]
    }
   ],
   "source": [
    "%%time\n",
    "label_pool = [ref.label.values[0]]\n",
    "for i in range(1, len(ref)):\n",
    "    if ref.label.values[i] != ref.label.values[i-1]:\n",
    "        label_pool.append(ref.label.values[i])\n",
    "print label_pool"
   ]
  },
  {
   "cell_type": "code",
   "execution_count": 50,
   "metadata": {
    "collapsed": true
   },
   "outputs": [],
   "source": [
    "picks = [3, 2, 3, 3, 3, 2, 3, 3]\n",
    "fnames = []\n",
    "labels = []\n",
    "preds = []"
   ]
  },
  {
   "cell_type": "code",
   "execution_count": 51,
   "metadata": {},
   "outputs": [
    {
     "name": "stdout",
     "output_type": "stream",
     "text": [
      "(15042, 15042, 15042)\n",
      "CPU times: user 64.4 ms, sys: 3.35 ms, total: 67.7 ms\n",
      "Wall time: 67.2 ms\n"
     ]
    }
   ],
   "source": [
    "%%time\n",
    "for i, label in enumerate(label_pool):\n",
    "    df = pd.read_csv('../pkugoodspeed/data/merge/'+label+'_v'+str(picks[i])+'.csv')\n",
    "    assert (np.array(ref[ref.label == label].fname.tolist()) != np.array(df.fname.tolist())).sum() == 0\n",
    "    assert (np.array(ref[ref.label == label].label.tolist()) != np.array(df.label.tolist())).sum() == 0\n",
    "    fnames += df.fname.tolist()\n",
    "    labels += df.label.tolist()\n",
    "    preds += df.pred.tolist()\n",
    "print(len(fnames), len(labels), len(preds))"
   ]
  },
  {
   "cell_type": "code",
   "execution_count": 52,
   "metadata": {},
   "outputs": [
    {
     "name": "stdout",
     "output_type": "stream",
     "text": [
      "(15042, 3)\n"
     ]
    }
   ],
   "source": [
    "sub_df = pd.DataFrame({\n",
    "    'fname': fnames,\n",
    "    'label': labels,\n",
    "    'pred': preds\n",
    "})\n",
    "sub_df = sub_df[['fname', 'label', 'pred']]\n",
    "sub_df.head(5)\n",
    "print(sub_df.shape)"
   ]
  },
  {
   "cell_type": "code",
   "execution_count": 53,
   "metadata": {
    "collapsed": true
   },
   "outputs": [],
   "source": [
    "filename = '../submissions/subm' + ''.join([str(x) for x in picks]) + '.csv'\n",
    "sub_df.to_csv(filename, index=False, header=False)"
   ]
  },
  {
   "cell_type": "code",
   "execution_count": null,
   "metadata": {
    "collapsed": true
   },
   "outputs": [],
   "source": []
  }
 ],
 "metadata": {
  "kernelspec": {
   "display_name": "Python 2",
   "language": "python",
   "name": "python2"
  },
  "language_info": {
   "codemirror_mode": {
    "name": "ipython",
    "version": 2
   },
   "file_extension": ".py",
   "mimetype": "text/x-python",
   "name": "python",
   "nbconvert_exporter": "python",
   "pygments_lexer": "ipython2",
   "version": "2.7.13"
  }
 },
 "nbformat": 4,
 "nbformat_minor": 2
}
