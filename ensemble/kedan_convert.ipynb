{
 "cells": [
  {
   "cell_type": "code",
   "execution_count": 2,
   "metadata": {
    "collapsed": true
   },
   "outputs": [],
   "source": [
    "import numpy as np\n",
    "import pandas as pd"
   ]
  },
  {
   "cell_type": "code",
   "execution_count": 3,
   "metadata": {},
   "outputs": [
    {
     "data": {
      "text/html": [
       "<div>\n",
       "<table border=\"1\" class=\"dataframe\">\n",
       "  <thead>\n",
       "    <tr style=\"text-align: right;\">\n",
       "      <th></th>\n",
       "      <th>fname</th>\n",
       "      <th>label</th>\n",
       "      <th>x0</th>\n",
       "      <th>x1</th>\n",
       "      <th>x2</th>\n",
       "      <th>x3</th>\n",
       "      <th>x4</th>\n",
       "      <th>x5</th>\n",
       "      <th>x6</th>\n",
       "      <th>x7</th>\n",
       "      <th>x8</th>\n",
       "      <th>x9</th>\n",
       "      <th>x10</th>\n",
       "    </tr>\n",
       "  </thead>\n",
       "  <tbody>\n",
       "    <tr>\n",
       "      <th>0</th>\n",
       "      <td>Images/coat_length_labels/56630c0f4a23a9159dcc...</td>\n",
       "      <td>coat_length_labels</td>\n",
       "      <td>0.004246</td>\n",
       "      <td>0.010085</td>\n",
       "      <td>0.774107</td>\n",
       "      <td>0.206615</td>\n",
       "      <td>0.003798</td>\n",
       "      <td>0.000450</td>\n",
       "      <td>0.000281</td>\n",
       "      <td>0.000419</td>\n",
       "      <td>NaN</td>\n",
       "      <td>NaN</td>\n",
       "      <td>NaN</td>\n",
       "    </tr>\n",
       "    <tr>\n",
       "      <th>1</th>\n",
       "      <td>Images/coat_length_labels/e5e153688e0ca9857834...</td>\n",
       "      <td>coat_length_labels</td>\n",
       "      <td>0.007799</td>\n",
       "      <td>0.000634</td>\n",
       "      <td>0.003500</td>\n",
       "      <td>0.393937</td>\n",
       "      <td>0.058637</td>\n",
       "      <td>0.514840</td>\n",
       "      <td>0.020369</td>\n",
       "      <td>0.000283</td>\n",
       "      <td>NaN</td>\n",
       "      <td>NaN</td>\n",
       "      <td>NaN</td>\n",
       "    </tr>\n",
       "    <tr>\n",
       "      <th>2</th>\n",
       "      <td>Images/coat_length_labels/645cc197bb7bae26e735...</td>\n",
       "      <td>coat_length_labels</td>\n",
       "      <td>0.004223</td>\n",
       "      <td>0.000084</td>\n",
       "      <td>0.000052</td>\n",
       "      <td>0.000060</td>\n",
       "      <td>0.000092</td>\n",
       "      <td>0.001534</td>\n",
       "      <td>0.992930</td>\n",
       "      <td>0.001025</td>\n",
       "      <td>NaN</td>\n",
       "      <td>NaN</td>\n",
       "      <td>NaN</td>\n",
       "    </tr>\n",
       "  </tbody>\n",
       "</table>\n",
       "</div>"
      ],
      "text/plain": [
       "                                               fname               label  \\\n",
       "0  Images/coat_length_labels/56630c0f4a23a9159dcc...  coat_length_labels   \n",
       "1  Images/coat_length_labels/e5e153688e0ca9857834...  coat_length_labels   \n",
       "2  Images/coat_length_labels/645cc197bb7bae26e735...  coat_length_labels   \n",
       "\n",
       "         x0        x1        x2        x3        x4        x5        x6  \\\n",
       "0  0.004246  0.010085  0.774107  0.206615  0.003798  0.000450  0.000281   \n",
       "1  0.007799  0.000634  0.003500  0.393937  0.058637  0.514840  0.020369   \n",
       "2  0.004223  0.000084  0.000052  0.000060  0.000092  0.001534  0.992930   \n",
       "\n",
       "         x7  x8  x9  x10  \n",
       "0  0.000419 NaN NaN  NaN  \n",
       "1  0.000283 NaN NaN  NaN  \n",
       "2  0.001025 NaN NaN  NaN  "
      ]
     },
     "execution_count": 3,
     "metadata": {},
     "output_type": "execute_result"
    }
   ],
   "source": [
    "LABEL = 'coat_length_labels'\n",
    "df = pd.read_csv('../runFinetuneImagenet/models/coat_length_labels/Xception-87.5/test_results_raw.csv',\n",
    "                names=['fname', 'label', 'x0', 'x1', 'x2', 'x3', 'x4', 'x5', 'x6', 'x7', 'x8', 'x9', 'x10'])\n",
    "df.head(3)"
   ]
  },
  {
   "cell_type": "code",
   "execution_count": 4,
   "metadata": {
    "collapsed": true
   },
   "outputs": [],
   "source": [
    "def _tostring(v):\n",
    "    return ';'.join([\"{0:.4f}\".format(round(x,4)) for x in v])"
   ]
  },
  {
   "cell_type": "code",
   "execution_count": 5,
   "metadata": {},
   "outputs": [
    {
     "name": "stdout",
     "output_type": "stream",
     "text": [
      "CPU times: user 145 ms, sys: 19.1 ms, total: 164 ms\n",
      "Wall time: 149 ms\n"
     ]
    }
   ],
   "source": [
    "pred = df[['x0', 'x1', 'x2', 'x3', 'x4', 'x5', 'x6', 'x7']].values\n",
    "%time pred_str = [_tostring(v) for v in pred]"
   ]
  },
  {
   "cell_type": "code",
   "execution_count": 6,
   "metadata": {},
   "outputs": [
    {
     "name": "stdout",
     "output_type": "stream",
     "text": [
      "(2147, 3)\n"
     ]
    },
    {
     "data": {
      "text/html": [
       "<div>\n",
       "<table border=\"1\" class=\"dataframe\">\n",
       "  <thead>\n",
       "    <tr style=\"text-align: right;\">\n",
       "      <th></th>\n",
       "      <th>fname</th>\n",
       "      <th>label</th>\n",
       "      <th>pred</th>\n",
       "    </tr>\n",
       "  </thead>\n",
       "  <tbody>\n",
       "    <tr>\n",
       "      <th>0</th>\n",
       "      <td>Images/coat_length_labels/56630c0f4a23a9159dcc...</td>\n",
       "      <td>coat_length_labels</td>\n",
       "      <td>0.0042;0.0101;0.7741;0.2066;0.0038;0.0004;0.00...</td>\n",
       "    </tr>\n",
       "    <tr>\n",
       "      <th>1</th>\n",
       "      <td>Images/coat_length_labels/e5e153688e0ca9857834...</td>\n",
       "      <td>coat_length_labels</td>\n",
       "      <td>0.0078;0.0006;0.0035;0.3939;0.0586;0.5148;0.02...</td>\n",
       "    </tr>\n",
       "    <tr>\n",
       "      <th>2</th>\n",
       "      <td>Images/coat_length_labels/645cc197bb7bae26e735...</td>\n",
       "      <td>coat_length_labels</td>\n",
       "      <td>0.0042;0.0001;0.0001;0.0001;0.0001;0.0015;0.99...</td>\n",
       "    </tr>\n",
       "  </tbody>\n",
       "</table>\n",
       "</div>"
      ],
      "text/plain": [
       "                                               fname               label  \\\n",
       "0  Images/coat_length_labels/56630c0f4a23a9159dcc...  coat_length_labels   \n",
       "1  Images/coat_length_labels/e5e153688e0ca9857834...  coat_length_labels   \n",
       "2  Images/coat_length_labels/645cc197bb7bae26e735...  coat_length_labels   \n",
       "\n",
       "                                                pred  \n",
       "0  0.0042;0.0101;0.7741;0.2066;0.0038;0.0004;0.00...  \n",
       "1  0.0078;0.0006;0.0035;0.3939;0.0586;0.5148;0.02...  \n",
       "2  0.0042;0.0001;0.0001;0.0001;0.0001;0.0015;0.99...  "
      ]
     },
     "execution_count": 6,
     "metadata": {},
     "output_type": "execute_result"
    }
   ],
   "source": [
    "sub_df = pd.DataFrame({\n",
    "    'fname': df.fname.tolist(),\n",
    "    'label': df.label.tolist(),\n",
    "    'pred': pred_str\n",
    "})\n",
    "print sub_df.shape\n",
    "sub_df.head(3)"
   ]
  },
  {
   "cell_type": "code",
   "execution_count": 7,
   "metadata": {
    "collapsed": true
   },
   "outputs": [],
   "source": [
    "sub_df.to_csv('../pkugoodspeed/data/merge/'+LABEL+'_v2.csv', index=False)"
   ]
  },
  {
   "cell_type": "code",
   "execution_count": 8,
   "metadata": {
    "collapsed": true
   },
   "outputs": [],
   "source": [
    "df1 = pd.read_pickle('../pkugoodspeed/output/inception/coat_length_labels_test.pik')\n",
    "df2 = pd.read_pickle('../pkugoodspeed/output/kerasresnet/coat_length_labels_test.pik')\n",
    "df3 = pd.read_pickle('../pkugoodspeed/output/xception/coat_length_labels_test.pik')"
   ]
  },
  {
   "cell_type": "code",
   "execution_count": 11,
   "metadata": {},
   "outputs": [
    {
     "name": "stdout",
     "output_type": "stream",
     "text": [
      "CPU times: user 138 ms, sys: 7.36 ms, total: 145 ms\n",
      "Wall time: 139 ms\n"
     ]
    }
   ],
   "source": [
    "x_0 = np.array(pred)\n",
    "x_1 = np.array(df1.pred.tolist())\n",
    "x_2 = np.array(df2.pred.tolist())\n",
    "x_3 = np.array(df3.pred.tolist())\n",
    "pr = x_0*0.4 + x_1*0.2 + x_2*0.2 + x_3*0.2\n",
    "%time pr_str = [_tostring(v) for v in pr]"
   ]
  },
  {
   "cell_type": "code",
   "execution_count": 12,
   "metadata": {},
   "outputs": [
    {
     "name": "stdout",
     "output_type": "stream",
     "text": [
      "(2147, 3)\n"
     ]
    },
    {
     "data": {
      "text/html": [
       "<div>\n",
       "<table border=\"1\" class=\"dataframe\">\n",
       "  <thead>\n",
       "    <tr style=\"text-align: right;\">\n",
       "      <th></th>\n",
       "      <th>fname</th>\n",
       "      <th>label</th>\n",
       "      <th>pred</th>\n",
       "    </tr>\n",
       "  </thead>\n",
       "  <tbody>\n",
       "    <tr>\n",
       "      <th>0</th>\n",
       "      <td>Images/coat_length_labels/56630c0f4a23a9159dcc...</td>\n",
       "      <td>coat_length_labels</td>\n",
       "      <td>0.0022;0.0083;0.8871;0.0992;0.0024;0.0003;0.00...</td>\n",
       "    </tr>\n",
       "    <tr>\n",
       "      <th>1</th>\n",
       "      <td>Images/coat_length_labels/e5e153688e0ca9857834...</td>\n",
       "      <td>coat_length_labels</td>\n",
       "      <td>0.0246;0.0215;0.0689;0.3851;0.0485;0.4284;0.01...</td>\n",
       "    </tr>\n",
       "    <tr>\n",
       "      <th>2</th>\n",
       "      <td>Images/coat_length_labels/645cc197bb7bae26e735...</td>\n",
       "      <td>coat_length_labels</td>\n",
       "      <td>0.0021;0.0002;0.0001;0.0000;0.0001;0.0021;0.98...</td>\n",
       "    </tr>\n",
       "  </tbody>\n",
       "</table>\n",
       "</div>"
      ],
      "text/plain": [
       "                                               fname               label  \\\n",
       "0  Images/coat_length_labels/56630c0f4a23a9159dcc...  coat_length_labels   \n",
       "1  Images/coat_length_labels/e5e153688e0ca9857834...  coat_length_labels   \n",
       "2  Images/coat_length_labels/645cc197bb7bae26e735...  coat_length_labels   \n",
       "\n",
       "                                                pred  \n",
       "0  0.0022;0.0083;0.8871;0.0992;0.0024;0.0003;0.00...  \n",
       "1  0.0246;0.0215;0.0689;0.3851;0.0485;0.4284;0.01...  \n",
       "2  0.0021;0.0002;0.0001;0.0000;0.0001;0.0021;0.98...  "
      ]
     },
     "execution_count": 12,
     "metadata": {},
     "output_type": "execute_result"
    }
   ],
   "source": [
    "sub_df = pd.DataFrame({\n",
    "    'fname': df.fname.tolist(),\n",
    "    'label': df.label.tolist(),\n",
    "    'pred': pr_str\n",
    "})\n",
    "print sub_df.shape\n",
    "sub_df.head(3)"
   ]
  },
  {
   "cell_type": "code",
   "execution_count": 13,
   "metadata": {
    "collapsed": true
   },
   "outputs": [],
   "source": [
    "sub_df.to_csv('../pkugoodspeed/data/merge/'+LABEL+'_v3.csv', index=False)"
   ]
  },
  {
   "cell_type": "code",
   "execution_count": null,
   "metadata": {
    "collapsed": true
   },
   "outputs": [],
   "source": []
  }
 ],
 "metadata": {
  "kernelspec": {
   "display_name": "Python 2",
   "language": "python",
   "name": "python2"
  },
  "language_info": {
   "codemirror_mode": {
    "name": "ipython",
    "version": 2
   },
   "file_extension": ".py",
   "mimetype": "text/x-python",
   "name": "python",
   "nbconvert_exporter": "python",
   "pygments_lexer": "ipython2",
   "version": "2.7.13"
  }
 },
 "nbformat": 4,
 "nbformat_minor": 2
}
