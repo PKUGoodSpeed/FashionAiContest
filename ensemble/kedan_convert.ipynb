{
 "cells": [
  {
   "cell_type": "code",
   "execution_count": 8,
   "metadata": {
    "collapsed": true
   },
   "outputs": [],
   "source": [
    "import numpy as np\n",
    "import pandas as pd"
   ]
  },
  {
   "cell_type": "code",
   "execution_count": 9,
   "metadata": {},
   "outputs": [
    {
     "data": {
      "text/html": [
       "<div>\n",
       "<table border=\"1\" class=\"dataframe\">\n",
       "  <thead>\n",
       "    <tr style=\"text-align: right;\">\n",
       "      <th></th>\n",
       "      <th>fname</th>\n",
       "      <th>label</th>\n",
       "      <th>x0</th>\n",
       "      <th>x1</th>\n",
       "      <th>x2</th>\n",
       "      <th>x3</th>\n",
       "      <th>x4</th>\n",
       "      <th>x5</th>\n",
       "      <th>x6</th>\n",
       "      <th>x7</th>\n",
       "      <th>x8</th>\n",
       "      <th>x9</th>\n",
       "      <th>x10</th>\n",
       "    </tr>\n",
       "  </thead>\n",
       "  <tbody>\n",
       "    <tr>\n",
       "      <th>0</th>\n",
       "      <td>Images/neckline_design_labels/3d784813cda05081...</td>\n",
       "      <td>neckline_design_labels</td>\n",
       "      <td>0.000536</td>\n",
       "      <td>0.989224</td>\n",
       "      <td>0.000057</td>\n",
       "      <td>0.000013</td>\n",
       "      <td>0.000038</td>\n",
       "      <td>0.000150</td>\n",
       "      <td>0.000423</td>\n",
       "      <td>0.000085</td>\n",
       "      <td>0.009238</td>\n",
       "      <td>0.000237</td>\n",
       "      <td>NaN</td>\n",
       "    </tr>\n",
       "    <tr>\n",
       "      <th>1</th>\n",
       "      <td>Images/neckline_design_labels/0cb381e52f4b738a...</td>\n",
       "      <td>neckline_design_labels</td>\n",
       "      <td>0.976080</td>\n",
       "      <td>0.006256</td>\n",
       "      <td>0.001822</td>\n",
       "      <td>0.001173</td>\n",
       "      <td>0.002359</td>\n",
       "      <td>0.001045</td>\n",
       "      <td>0.001056</td>\n",
       "      <td>0.000754</td>\n",
       "      <td>0.008591</td>\n",
       "      <td>0.000863</td>\n",
       "      <td>NaN</td>\n",
       "    </tr>\n",
       "    <tr>\n",
       "      <th>2</th>\n",
       "      <td>Images/neckline_design_labels/e19268a3aa3c57ff...</td>\n",
       "      <td>neckline_design_labels</td>\n",
       "      <td>0.000044</td>\n",
       "      <td>0.989091</td>\n",
       "      <td>0.000098</td>\n",
       "      <td>0.000009</td>\n",
       "      <td>0.000017</td>\n",
       "      <td>0.000255</td>\n",
       "      <td>0.005524</td>\n",
       "      <td>0.000062</td>\n",
       "      <td>0.003873</td>\n",
       "      <td>0.001028</td>\n",
       "      <td>NaN</td>\n",
       "    </tr>\n",
       "  </tbody>\n",
       "</table>\n",
       "</div>"
      ],
      "text/plain": [
       "                                               fname                   label  \\\n",
       "0  Images/neckline_design_labels/3d784813cda05081...  neckline_design_labels   \n",
       "1  Images/neckline_design_labels/0cb381e52f4b738a...  neckline_design_labels   \n",
       "2  Images/neckline_design_labels/e19268a3aa3c57ff...  neckline_design_labels   \n",
       "\n",
       "         x0        x1        x2        x3        x4        x5        x6  \\\n",
       "0  0.000536  0.989224  0.000057  0.000013  0.000038  0.000150  0.000423   \n",
       "1  0.976080  0.006256  0.001822  0.001173  0.002359  0.001045  0.001056   \n",
       "2  0.000044  0.989091  0.000098  0.000009  0.000017  0.000255  0.005524   \n",
       "\n",
       "         x7        x8        x9  x10  \n",
       "0  0.000085  0.009238  0.000237  NaN  \n",
       "1  0.000754  0.008591  0.000863  NaN  \n",
       "2  0.000062  0.003873  0.001028  NaN  "
      ]
     },
     "execution_count": 9,
     "metadata": {},
     "output_type": "execute_result"
    }
   ],
   "source": [
    "LABEL = 'neckline_design_labels'\n",
    "df = pd.read_csv('../runFinetuneImagenet/models/neckline_design_labels/InceptionV3-85/test_results_raw.csv',\n",
    "                names=['fname', 'label', 'x0', 'x1', 'x2', 'x3', 'x4', 'x5', 'x6', 'x7', 'x8', 'x9', 'x10'])\n",
    "df.head(3)"
   ]
  },
  {
   "cell_type": "code",
   "execution_count": 10,
   "metadata": {
    "collapsed": true
   },
   "outputs": [],
   "source": [
    "def _tostring(v):\n",
    "    return ';'.join([\"{0:.4f}\".format(round(x,4)) for x in v])"
   ]
  },
  {
   "cell_type": "code",
   "execution_count": 11,
   "metadata": {},
   "outputs": [
    {
     "name": "stdout",
     "output_type": "stream",
     "text": [
      "CPU times: user 279 ms, sys: 37.2 ms, total: 316 ms\n",
      "Wall time: 289 ms\n"
     ]
    }
   ],
   "source": [
    "pred = df[['x0', 'x1', 'x2', 'x3', 'x4', 'x5', 'x6', 'x7', 'x8', 'x9']].values\n",
    "%time pred_str = [_tostring(v) for v in pred]"
   ]
  },
  {
   "cell_type": "code",
   "execution_count": 12,
   "metadata": {},
   "outputs": [
    {
     "name": "stdout",
     "output_type": "stream",
     "text": [
      "(3147, 3)\n"
     ]
    },
    {
     "data": {
      "text/html": [
       "<div>\n",
       "<table border=\"1\" class=\"dataframe\">\n",
       "  <thead>\n",
       "    <tr style=\"text-align: right;\">\n",
       "      <th></th>\n",
       "      <th>fname</th>\n",
       "      <th>label</th>\n",
       "      <th>pred</th>\n",
       "    </tr>\n",
       "  </thead>\n",
       "  <tbody>\n",
       "    <tr>\n",
       "      <th>0</th>\n",
       "      <td>Images/neckline_design_labels/3d784813cda05081...</td>\n",
       "      <td>neckline_design_labels</td>\n",
       "      <td>0.0005;0.9892;0.0001;0.0000;0.0000;0.0002;0.00...</td>\n",
       "    </tr>\n",
       "    <tr>\n",
       "      <th>1</th>\n",
       "      <td>Images/neckline_design_labels/0cb381e52f4b738a...</td>\n",
       "      <td>neckline_design_labels</td>\n",
       "      <td>0.9761;0.0063;0.0018;0.0012;0.0024;0.0010;0.00...</td>\n",
       "    </tr>\n",
       "    <tr>\n",
       "      <th>2</th>\n",
       "      <td>Images/neckline_design_labels/e19268a3aa3c57ff...</td>\n",
       "      <td>neckline_design_labels</td>\n",
       "      <td>0.0000;0.9891;0.0001;0.0000;0.0000;0.0003;0.00...</td>\n",
       "    </tr>\n",
       "  </tbody>\n",
       "</table>\n",
       "</div>"
      ],
      "text/plain": [
       "                                               fname                   label  \\\n",
       "0  Images/neckline_design_labels/3d784813cda05081...  neckline_design_labels   \n",
       "1  Images/neckline_design_labels/0cb381e52f4b738a...  neckline_design_labels   \n",
       "2  Images/neckline_design_labels/e19268a3aa3c57ff...  neckline_design_labels   \n",
       "\n",
       "                                                pred  \n",
       "0  0.0005;0.9892;0.0001;0.0000;0.0000;0.0002;0.00...  \n",
       "1  0.9761;0.0063;0.0018;0.0012;0.0024;0.0010;0.00...  \n",
       "2  0.0000;0.9891;0.0001;0.0000;0.0000;0.0003;0.00...  "
      ]
     },
     "execution_count": 12,
     "metadata": {},
     "output_type": "execute_result"
    }
   ],
   "source": [
    "sub_df = pd.DataFrame({\n",
    "    'fname': df.fname.tolist(),\n",
    "    'label': df.label.tolist(),\n",
    "    'pred': pred_str\n",
    "})\n",
    "print sub_df.shape\n",
    "sub_df.head(3)"
   ]
  },
  {
   "cell_type": "code",
   "execution_count": 13,
   "metadata": {
    "collapsed": true
   },
   "outputs": [],
   "source": [
    "sub_df.to_csv('../pkugoodspeed/data/merge/'+LABEL+'_v2.csv', index=False)"
   ]
  },
  {
   "cell_type": "code",
   "execution_count": null,
   "metadata": {
    "collapsed": true
   },
   "outputs": [],
   "source": []
  }
 ],
 "metadata": {
  "kernelspec": {
   "display_name": "Python 2",
   "language": "python",
   "name": "python2"
  },
  "language_info": {
   "codemirror_mode": {
    "name": "ipython",
    "version": 2
   },
   "file_extension": ".py",
   "mimetype": "text/x-python",
   "name": "python",
   "nbconvert_exporter": "python",
   "pygments_lexer": "ipython2",
   "version": "2.7.13"
  }
 },
 "nbformat": 4,
 "nbformat_minor": 2
}
