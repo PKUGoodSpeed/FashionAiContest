{
 "cells": [
  {
   "cell_type": "code",
   "execution_count": 61,
   "metadata": {
    "collapsed": true
   },
   "outputs": [],
   "source": [
    "import numpy as np\n",
    "import pandas as pd\n",
    "from IPython.display import display"
   ]
  },
  {
   "cell_type": "code",
   "execution_count": 62,
   "metadata": {},
   "outputs": [
    {
     "name": "stdout",
     "output_type": "stream",
     "text": [
      "5\n"
     ]
    },
    {
     "data": {
      "text/html": [
       "<div>\n",
       "<table border=\"1\" class=\"dataframe\">\n",
       "  <thead>\n",
       "    <tr style=\"text-align: right;\">\n",
       "      <th></th>\n",
       "      <th>fname</th>\n",
       "      <th>label</th>\n",
       "      <th>x0</th>\n",
       "      <th>x1</th>\n",
       "      <th>x2</th>\n",
       "      <th>x3</th>\n",
       "      <th>x4</th>\n",
       "      <th>pred</th>\n",
       "    </tr>\n",
       "  </thead>\n",
       "  <tbody>\n",
       "    <tr>\n",
       "      <th>0</th>\n",
       "      <td>Images/neck_design_labels/7f6e30d963510863e741...</td>\n",
       "      <td>neck_design_labels</td>\n",
       "      <td>0.000012</td>\n",
       "      <td>0.000255</td>\n",
       "      <td>0.000048</td>\n",
       "      <td>0.999667</td>\n",
       "      <td>0.000017</td>\n",
       "      <td>[1.2318843e-05, 0.00025540567, 4.8339447e-05, ...</td>\n",
       "    </tr>\n",
       "    <tr>\n",
       "      <th>1</th>\n",
       "      <td>Images/neck_design_labels/da8b7298a9f325a8389f...</td>\n",
       "      <td>neck_design_labels</td>\n",
       "      <td>0.000239</td>\n",
       "      <td>0.996492</td>\n",
       "      <td>0.000040</td>\n",
       "      <td>0.000121</td>\n",
       "      <td>0.003108</td>\n",
       "      <td>[0.00023892976, 0.9964921, 4.00207e-05, 0.0001...</td>\n",
       "    </tr>\n",
       "    <tr>\n",
       "      <th>2</th>\n",
       "      <td>Images/neck_design_labels/5c864a5b58cd91d9e343...</td>\n",
       "      <td>neck_design_labels</td>\n",
       "      <td>0.000071</td>\n",
       "      <td>0.000154</td>\n",
       "      <td>0.999563</td>\n",
       "      <td>0.000172</td>\n",
       "      <td>0.000041</td>\n",
       "      <td>[7.112622e-05, 0.00015370107, 0.9995628, 0.000...</td>\n",
       "    </tr>\n",
       "  </tbody>\n",
       "</table>\n",
       "</div>"
      ],
      "text/plain": [
       "                                               fname               label  \\\n",
       "0  Images/neck_design_labels/7f6e30d963510863e741...  neck_design_labels   \n",
       "1  Images/neck_design_labels/da8b7298a9f325a8389f...  neck_design_labels   \n",
       "2  Images/neck_design_labels/5c864a5b58cd91d9e343...  neck_design_labels   \n",
       "\n",
       "         x0        x1        x2        x3        x4  \\\n",
       "0  0.000012  0.000255  0.000048  0.999667  0.000017   \n",
       "1  0.000239  0.996492  0.000040  0.000121  0.003108   \n",
       "2  0.000071  0.000154  0.999563  0.000172  0.000041   \n",
       "\n",
       "                                                pred  \n",
       "0  [1.2318843e-05, 0.00025540567, 4.8339447e-05, ...  \n",
       "1  [0.00023892976, 0.9964921, 4.00207e-05, 0.0001...  \n",
       "2  [7.112622e-05, 0.00015370107, 0.9995628, 0.000...  "
      ]
     },
     "execution_count": 62,
     "metadata": {},
     "output_type": "execute_result"
    }
   ],
   "source": [
    "LABEL = 'neck_design_labels'\n",
    "dfs = []\n",
    "names = ['kedan', 'kerasresnet', 'inception', 'xception']\n",
    "tmp = pd.read_pickle('../pkugoodspeed/output/kerasresnet/'+LABEL+'_test.pik')\n",
    "entry = len(tmp.pred.values[0])\n",
    "print entry\n",
    "entries = ['x'+str(i) for i in range(entry)]\n",
    "dfs.append(pd.read_csv('../runFinetuneImagenet/models/neck_design_labels/Xception-90/test_results_raw.csv',\n",
    "                      names = ['fname', 'label'] + entries))\n",
    "dfs[0]['pred'] = list(dfs[0][entries].values)\n",
    "dfs[0].head(3)"
   ]
  },
  {
   "cell_type": "code",
   "execution_count": 63,
   "metadata": {
    "collapsed": true
   },
   "outputs": [],
   "source": [
    "for i in range(1, 4):\n",
    "    dfs.append(pd.read_pickle('../pkugoodspeed/output/'+names[i]+'/'+LABEL+'_test.pik'))"
   ]
  },
  {
   "cell_type": "code",
   "execution_count": 64,
   "metadata": {},
   "outputs": [
    {
     "name": "stdout",
     "output_type": "stream",
     "text": [
      "Checking Test Prediction\n",
      "('kedan', 'kerasresnet', 0.76443629697525206)\n",
      "('kedan', 'inception', 0.79743354720439963)\n",
      "('kedan', 'xception', 0.79285059578368466)\n",
      "('kerasresnet', 'inception', 0.75710357470210821)\n",
      "('kerasresnet', 'xception', 0.73235563703024753)\n",
      "('inception', 'xception', 0.77451879010082492)\n"
     ]
    }
   ],
   "source": [
    "print(\"Checking Test Prediction\")\n",
    "for i in range(4):\n",
    "    for j in range(i+1, 4):\n",
    "        pred_i = np.array(dfs[i].pred.tolist()).argmax(axis=-1)\n",
    "        pred_j = np.array(dfs[j].pred.tolist()).argmax(axis=-1)\n",
    "        r = (pred_i==pred_j).sum()/1./len(pred_i)\n",
    "        print(names[i], names[j], r)"
   ]
  },
  {
   "cell_type": "code",
   "execution_count": 71,
   "metadata": {},
   "outputs": [
    {
     "name": "stdout",
     "output_type": "stream",
     "text": [
      "5\n"
     ]
    },
    {
     "data": {
      "text/html": [
       "<div>\n",
       "<table border=\"1\" class=\"dataframe\">\n",
       "  <thead>\n",
       "    <tr style=\"text-align: right;\">\n",
       "      <th></th>\n",
       "      <th>fname</th>\n",
       "      <th>x0</th>\n",
       "      <th>x1</th>\n",
       "      <th>x2</th>\n",
       "      <th>x3</th>\n",
       "      <th>x4</th>\n",
       "      <th>pred</th>\n",
       "    </tr>\n",
       "  </thead>\n",
       "  <tbody>\n",
       "    <tr>\n",
       "      <th>0</th>\n",
       "      <td>Images/neck_design_labels/fe79b253ade83fab8220...</td>\n",
       "      <td>0.000277</td>\n",
       "      <td>0.000266</td>\n",
       "      <td>0.990246</td>\n",
       "      <td>0.009033</td>\n",
       "      <td>0.000177</td>\n",
       "      <td>[0.0002773849, 0.0002661491, 0.99024606, 0.009...</td>\n",
       "    </tr>\n",
       "    <tr>\n",
       "      <th>1</th>\n",
       "      <td>Images/neck_design_labels/a13e4d604993fcbd7647...</td>\n",
       "      <td>0.000441</td>\n",
       "      <td>0.000077</td>\n",
       "      <td>0.999375</td>\n",
       "      <td>0.000090</td>\n",
       "      <td>0.000016</td>\n",
       "      <td>[0.0004414184, 7.743824e-05, 0.9993749, 9.0151...</td>\n",
       "    </tr>\n",
       "    <tr>\n",
       "      <th>2</th>\n",
       "      <td>Images/neck_design_labels/444c7eeca12342287a02...</td>\n",
       "      <td>0.003286</td>\n",
       "      <td>0.020190</td>\n",
       "      <td>0.000141</td>\n",
       "      <td>0.000071</td>\n",
       "      <td>0.976313</td>\n",
       "      <td>[0.0032860972, 0.020189963, 0.0001407618, 7.05...</td>\n",
       "    </tr>\n",
       "  </tbody>\n",
       "</table>\n",
       "</div>"
      ],
      "text/plain": [
       "                                               fname        x0        x1  \\\n",
       "0  Images/neck_design_labels/fe79b253ade83fab8220...  0.000277  0.000266   \n",
       "1  Images/neck_design_labels/a13e4d604993fcbd7647...  0.000441  0.000077   \n",
       "2  Images/neck_design_labels/444c7eeca12342287a02...  0.003286  0.020190   \n",
       "\n",
       "         x2        x3        x4  \\\n",
       "0  0.990246  0.009033  0.000177   \n",
       "1  0.999375  0.000090  0.000016   \n",
       "2  0.000141  0.000071  0.976313   \n",
       "\n",
       "                                                pred  \n",
       "0  [0.0002773849, 0.0002661491, 0.99024606, 0.009...  \n",
       "1  [0.0004414184, 7.743824e-05, 0.9993749, 9.0151...  \n",
       "2  [0.0032860972, 0.020189963, 0.0001407618, 7.05...  "
      ]
     },
     "execution_count": 71,
     "metadata": {},
     "output_type": "execute_result"
    }
   ],
   "source": [
    "dfs = []\n",
    "names = ['kedan', 'kerasresnet', 'inception', 'xception']\n",
    "tmp = pd.read_pickle('../pkugoodspeed/output/kerasresnet/'+LABEL+'_oof.pik')\n",
    "entry = len(tmp.pred.values[0])\n",
    "print entry\n",
    "entries = ['x'+str(i) for i in range(entry)]\n",
    "dfs.append(pd.read_csv('../runFinetuneImagenet/models/neck_design_labels/Xception-90/validation_results.csv',\n",
    "                      names = ['fname'] + entries))\n",
    "dfs[0]['pred'] = list(dfs[0][entries].values)\n",
    "dfs[0].head(3)"
   ]
  },
  {
   "cell_type": "code",
   "execution_count": 72,
   "metadata": {
    "collapsed": true
   },
   "outputs": [],
   "source": [
    "for i in range(1, 4):\n",
    "    dfs.append(pd.read_pickle('../pkugoodspeed/output/'+names[i]+'/'+LABEL+'_oof.pik'))"
   ]
  },
  {
   "cell_type": "code",
   "execution_count": 73,
   "metadata": {},
   "outputs": [
    {
     "name": "stdout",
     "output_type": "stream",
     "text": [
      "Checking Validation Prediction\n",
      "('kedan', 'kerasresnet', 0.76140350877192986)\n",
      "('kedan', 'inception', 0.81754385964912279)\n",
      "('kedan', 'xception', 0.81403508771929822)\n",
      "('kerasresnet', 'inception', 0.77894736842105261)\n",
      "('kerasresnet', 'xception', 0.76140350877192986)\n",
      "('inception', 'xception', 0.80000000000000004)\n"
     ]
    }
   ],
   "source": [
    "print(\"Checking Validation Prediction\")\n",
    "for i in range(4):\n",
    "    for j in range(i+1, 4):\n",
    "        pred_i = np.array(dfs[i].pred.tolist()).argmax(axis=-1)\n",
    "        pred_j = np.array(dfs[j].pred.tolist()).argmax(axis=-1)\n",
    "        r = (pred_i==pred_j).sum()/1./len(pred_i)\n",
    "        print(names[i], names[j], r)"
   ]
  },
  {
   "cell_type": "code",
   "execution_count": null,
   "metadata": {
    "collapsed": true
   },
   "outputs": [],
   "source": []
  }
 ],
 "metadata": {
  "kernelspec": {
   "display_name": "Python 2",
   "language": "python",
   "name": "python2"
  },
  "language_info": {
   "codemirror_mode": {
    "name": "ipython",
    "version": 2
   },
   "file_extension": ".py",
   "mimetype": "text/x-python",
   "name": "python",
   "nbconvert_exporter": "python",
   "pygments_lexer": "ipython2",
   "version": "2.7.13"
  }
 },
 "nbformat": 4,
 "nbformat_minor": 2
}
