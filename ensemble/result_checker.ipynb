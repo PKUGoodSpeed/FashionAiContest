{
 "cells": [
  {
   "cell_type": "code",
   "execution_count": 1,
   "metadata": {
    "collapsed": true
   },
   "outputs": [],
   "source": [
    "import numpy as np\n",
    "import pandas as pd\n",
    "from IPython.display import display"
   ]
  },
  {
   "cell_type": "code",
   "execution_count": 2,
   "metadata": {},
   "outputs": [
    {
     "name": "stdout",
     "output_type": "stream",
     "text": [
      "8\n"
     ]
    },
    {
     "data": {
      "text/html": [
       "<div>\n",
       "<table border=\"1\" class=\"dataframe\">\n",
       "  <thead>\n",
       "    <tr style=\"text-align: right;\">\n",
       "      <th></th>\n",
       "      <th>fname</th>\n",
       "      <th>label</th>\n",
       "      <th>x0</th>\n",
       "      <th>x1</th>\n",
       "      <th>x2</th>\n",
       "      <th>x3</th>\n",
       "      <th>x4</th>\n",
       "      <th>x5</th>\n",
       "      <th>x6</th>\n",
       "      <th>x7</th>\n",
       "      <th>pred</th>\n",
       "    </tr>\n",
       "  </thead>\n",
       "  <tbody>\n",
       "    <tr>\n",
       "      <th>0</th>\n",
       "      <td>Images/coat_length_labels/56630c0f4a23a9159dcc...</td>\n",
       "      <td>coat_length_labels</td>\n",
       "      <td>0.004246</td>\n",
       "      <td>0.010085</td>\n",
       "      <td>0.774107</td>\n",
       "      <td>0.206615</td>\n",
       "      <td>0.003798</td>\n",
       "      <td>0.000450</td>\n",
       "      <td>0.000281</td>\n",
       "      <td>0.000419</td>\n",
       "      <td>[0.004245674, 0.010084558, 0.7741071, 0.206615...</td>\n",
       "    </tr>\n",
       "    <tr>\n",
       "      <th>1</th>\n",
       "      <td>Images/coat_length_labels/e5e153688e0ca9857834...</td>\n",
       "      <td>coat_length_labels</td>\n",
       "      <td>0.007799</td>\n",
       "      <td>0.000634</td>\n",
       "      <td>0.003500</td>\n",
       "      <td>0.393937</td>\n",
       "      <td>0.058637</td>\n",
       "      <td>0.514840</td>\n",
       "      <td>0.020369</td>\n",
       "      <td>0.000283</td>\n",
       "      <td>[0.007799243, 0.0006339851, 0.0034998278, 0.39...</td>\n",
       "    </tr>\n",
       "    <tr>\n",
       "      <th>2</th>\n",
       "      <td>Images/coat_length_labels/645cc197bb7bae26e735...</td>\n",
       "      <td>coat_length_labels</td>\n",
       "      <td>0.004223</td>\n",
       "      <td>0.000084</td>\n",
       "      <td>0.000052</td>\n",
       "      <td>0.000060</td>\n",
       "      <td>0.000092</td>\n",
       "      <td>0.001534</td>\n",
       "      <td>0.992930</td>\n",
       "      <td>0.001025</td>\n",
       "      <td>[0.0042228824, 8.361527e-05, 5.228903e-05, 6.0...</td>\n",
       "    </tr>\n",
       "  </tbody>\n",
       "</table>\n",
       "</div>"
      ],
      "text/plain": [
       "                                               fname               label  \\\n",
       "0  Images/coat_length_labels/56630c0f4a23a9159dcc...  coat_length_labels   \n",
       "1  Images/coat_length_labels/e5e153688e0ca9857834...  coat_length_labels   \n",
       "2  Images/coat_length_labels/645cc197bb7bae26e735...  coat_length_labels   \n",
       "\n",
       "         x0        x1        x2        x3        x4        x5        x6  \\\n",
       "0  0.004246  0.010085  0.774107  0.206615  0.003798  0.000450  0.000281   \n",
       "1  0.007799  0.000634  0.003500  0.393937  0.058637  0.514840  0.020369   \n",
       "2  0.004223  0.000084  0.000052  0.000060  0.000092  0.001534  0.992930   \n",
       "\n",
       "         x7                                               pred  \n",
       "0  0.000419  [0.004245674, 0.010084558, 0.7741071, 0.206615...  \n",
       "1  0.000283  [0.007799243, 0.0006339851, 0.0034998278, 0.39...  \n",
       "2  0.001025  [0.0042228824, 8.361527e-05, 5.228903e-05, 6.0...  "
      ]
     },
     "execution_count": 2,
     "metadata": {},
     "output_type": "execute_result"
    }
   ],
   "source": [
    "LABEL = 'coat_length_labels'\n",
    "dfs = []\n",
    "names = ['kedan', 'kerasresnet', 'inception', 'xception']\n",
    "tmp = pd.read_pickle('../pkugoodspeed/output/kerasresnet/'+LABEL+'_test.pik')\n",
    "entry = len(tmp.pred.values[0])\n",
    "print entry\n",
    "entries = ['x'+str(i) for i in range(entry)]\n",
    "dfs.append(pd.read_csv('../runFinetuneImagenet/models/coat_length_labels/Xception-87.5/test_results_raw.csv',\n",
    "                      names = ['fname', 'label'] + entries))\n",
    "dfs[0]['pred'] = list(dfs[0][entries].values)\n",
    "dfs[0].head(3)"
   ]
  },
  {
   "cell_type": "code",
   "execution_count": 3,
   "metadata": {
    "collapsed": true
   },
   "outputs": [],
   "source": [
    "for i in range(1, 4):\n",
    "    dfs.append(pd.read_pickle('../pkugoodspeed/output/'+names[i]+'/'+LABEL+'_test.pik'))"
   ]
  },
  {
   "cell_type": "code",
   "execution_count": 4,
   "metadata": {},
   "outputs": [
    {
     "name": "stdout",
     "output_type": "stream",
     "text": [
      "Checking Test Prediction\n",
      "('kedan', 'kerasresnet', 0.81928272007452263)\n",
      "('kedan', 'inception', 0.82440614811364699)\n",
      "('kedan', 'xception', 0.83931066604564508)\n",
      "('kerasresnet', 'inception', 0.81462505822077313)\n",
      "('kerasresnet', 'xception', 0.80810433162552398)\n",
      "('inception', 'xception', 0.82720074522589659)\n"
     ]
    }
   ],
   "source": [
    "print(\"Checking Test Prediction\")\n",
    "for i in range(4):\n",
    "    for j in range(i+1, 4):\n",
    "        pred_i = np.array(dfs[i].pred.tolist()).argmax(axis=-1)\n",
    "        pred_j = np.array(dfs[j].pred.tolist()).argmax(axis=-1)\n",
    "        r = (pred_i==pred_j).sum()/1./len(pred_i)\n",
    "        print(names[i], names[j], r)"
   ]
  },
  {
   "cell_type": "code",
   "execution_count": 5,
   "metadata": {},
   "outputs": [
    {
     "name": "stdout",
     "output_type": "stream",
     "text": [
      "8\n"
     ]
    },
    {
     "data": {
      "text/html": [
       "<div>\n",
       "<table border=\"1\" class=\"dataframe\">\n",
       "  <thead>\n",
       "    <tr style=\"text-align: right;\">\n",
       "      <th></th>\n",
       "      <th>fname</th>\n",
       "      <th>x0</th>\n",
       "      <th>x1</th>\n",
       "      <th>x2</th>\n",
       "      <th>x3</th>\n",
       "      <th>x4</th>\n",
       "      <th>x5</th>\n",
       "      <th>x6</th>\n",
       "      <th>x7</th>\n",
       "      <th>pred</th>\n",
       "    </tr>\n",
       "  </thead>\n",
       "  <tbody>\n",
       "    <tr>\n",
       "      <th>0</th>\n",
       "      <td>Images/coat_length_labels/34ce008b6911df3709c0...</td>\n",
       "      <td>0.000536</td>\n",
       "      <td>0.000364</td>\n",
       "      <td>0.007523</td>\n",
       "      <td>0.954330</td>\n",
       "      <td>0.033814</td>\n",
       "      <td>0.002342</td>\n",
       "      <td>0.000348</td>\n",
       "      <td>0.000743</td>\n",
       "      <td>[0.0005363511, 0.00036373883, 0.007523107, 0.9...</td>\n",
       "    </tr>\n",
       "    <tr>\n",
       "      <th>1</th>\n",
       "      <td>Images/coat_length_labels/a7b80d3f0a06001f1ae0...</td>\n",
       "      <td>0.000130</td>\n",
       "      <td>0.000172</td>\n",
       "      <td>0.000195</td>\n",
       "      <td>0.000086</td>\n",
       "      <td>0.000101</td>\n",
       "      <td>0.000057</td>\n",
       "      <td>0.000048</td>\n",
       "      <td>0.999212</td>\n",
       "      <td>[0.0001295788, 0.0001717698, 0.00019495538, 8....</td>\n",
       "    </tr>\n",
       "    <tr>\n",
       "      <th>2</th>\n",
       "      <td>Images/coat_length_labels/954ec2c5b5c91cd7061c...</td>\n",
       "      <td>0.000781</td>\n",
       "      <td>0.005143</td>\n",
       "      <td>0.002287</td>\n",
       "      <td>0.051090</td>\n",
       "      <td>0.928561</td>\n",
       "      <td>0.010423</td>\n",
       "      <td>0.000910</td>\n",
       "      <td>0.000805</td>\n",
       "      <td>[0.0007813775, 0.0051426427, 0.0022873143, 0.0...</td>\n",
       "    </tr>\n",
       "  </tbody>\n",
       "</table>\n",
       "</div>"
      ],
      "text/plain": [
       "                                               fname        x0        x1  \\\n",
       "0  Images/coat_length_labels/34ce008b6911df3709c0...  0.000536  0.000364   \n",
       "1  Images/coat_length_labels/a7b80d3f0a06001f1ae0...  0.000130  0.000172   \n",
       "2  Images/coat_length_labels/954ec2c5b5c91cd7061c...  0.000781  0.005143   \n",
       "\n",
       "         x2        x3        x4        x5        x6        x7  \\\n",
       "0  0.007523  0.954330  0.033814  0.002342  0.000348  0.000743   \n",
       "1  0.000195  0.000086  0.000101  0.000057  0.000048  0.999212   \n",
       "2  0.002287  0.051090  0.928561  0.010423  0.000910  0.000805   \n",
       "\n",
       "                                                pred  \n",
       "0  [0.0005363511, 0.00036373883, 0.007523107, 0.9...  \n",
       "1  [0.0001295788, 0.0001717698, 0.00019495538, 8....  \n",
       "2  [0.0007813775, 0.0051426427, 0.0022873143, 0.0...  "
      ]
     },
     "execution_count": 5,
     "metadata": {},
     "output_type": "execute_result"
    }
   ],
   "source": [
    "dfs = []\n",
    "names = ['kedan', 'kerasresnet', 'inception', 'xception']\n",
    "tmp = pd.read_pickle('../pkugoodspeed/output/kerasresnet/'+LABEL+'_oof.pik')\n",
    "entry = len(tmp.pred.values[0])\n",
    "print entry\n",
    "entries = ['x'+str(i) for i in range(entry)]\n",
    "dfs.append(pd.read_csv('../runFinetuneImagenet/models/coat_length_labels/Xception-87.5/validation_results.csv',\n",
    "                      names = ['fname'] + entries))\n",
    "dfs[0]['pred'] = list(dfs[0][entries].values)\n",
    "dfs[0].head(3)"
   ]
  },
  {
   "cell_type": "code",
   "execution_count": 6,
   "metadata": {
    "collapsed": true
   },
   "outputs": [],
   "source": [
    "for i in range(1, 4):\n",
    "    dfs.append(pd.read_pickle('../pkugoodspeed/output/'+names[i]+'/'+LABEL+'_oof.pik'))"
   ]
  },
  {
   "cell_type": "code",
   "execution_count": 7,
   "metadata": {},
   "outputs": [
    {
     "name": "stdout",
     "output_type": "stream",
     "text": [
      "Checking Validation Prediction\n",
      "('kedan', 'kerasresnet', 0.81095406360424027)\n",
      "('kedan', 'inception', 0.81095406360424027)\n",
      "('kedan', 'xception', 0.85865724381625441)\n",
      "('kerasresnet', 'inception', 0.8409893992932862)\n",
      "('kerasresnet', 'xception', 0.8409893992932862)\n",
      "('inception', 'xception', 0.85159010600706708)\n"
     ]
    }
   ],
   "source": [
    "print(\"Checking Validation Prediction\")\n",
    "for i in range(4):\n",
    "    for j in range(i+1, 4):\n",
    "        pred_i = np.array(dfs[i].pred.tolist()).argmax(axis=-1)\n",
    "        pred_j = np.array(dfs[j].pred.tolist()).argmax(axis=-1)\n",
    "        r = (pred_i==pred_j).sum()/1./len(pred_i)\n",
    "        print(names[i], names[j], r)"
   ]
  },
  {
   "cell_type": "code",
   "execution_count": null,
   "metadata": {
    "collapsed": true
   },
   "outputs": [],
   "source": []
  }
 ],
 "metadata": {
  "kernelspec": {
   "display_name": "Python 2",
   "language": "python",
   "name": "python2"
  },
  "language_info": {
   "codemirror_mode": {
    "name": "ipython",
    "version": 2
   },
   "file_extension": ".py",
   "mimetype": "text/x-python",
   "name": "python",
   "nbconvert_exporter": "python",
   "pygments_lexer": "ipython2",
   "version": "2.7.13"
  }
 },
 "nbformat": 4,
 "nbformat_minor": 2
}
